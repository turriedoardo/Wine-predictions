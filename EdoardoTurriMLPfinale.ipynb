{
 "cells": [
  {
   "cell_type": "markdown",
   "metadata": {},
   "source": [
    "# Machine Learning Pipeline"
   ]
  },
  {
   "cell_type": "code",
   "execution_count": 1,
   "metadata": {},
   "outputs": [],
   "source": [
    "# importo le librerie\n",
    "\n",
    "import numpy as np\n",
    "import pandas as pd\n",
    "import matplotlib.pyplot as plt\n",
    "from sklearn.tree import DecisionTreeClassifier\n",
    "from sklearn.ensemble import RandomForestClassifier\n",
    "from sklearn.model_selection import train_test_split, cross_val_score, RandomizedSearchCV\n",
    "from sklearn.metrics import accuracy_score\n",
    "from sklearn.feature_selection import SelectKBest\n",
    "from sklearn import datasets\n",
    "from scipy.stats import poisson, randint"
   ]
  },
  {
   "cell_type": "code",
   "execution_count": 2,
   "metadata": {},
   "outputs": [
    {
     "data": {
      "text/plain": [
       "'\\nbene\\n'"
      ]
     },
     "execution_count": 2,
     "metadata": {},
     "output_type": "execute_result"
    }
   ],
   "source": [
    "# carico il dataset dividendo tra features e labels\n",
    "features, target = datasets.load_wine(return_X_y = True, as_frame = True)\n",
    "\"\"\"\n",
    "bene\n",
    "\"\"\""
   ]
  },
  {
   "cell_type": "code",
   "execution_count": 3,
   "metadata": {},
   "outputs": [
    {
     "data": {
      "text/html": [
       "<div>\n",
       "<style scoped>\n",
       "    .dataframe tbody tr th:only-of-type {\n",
       "        vertical-align: middle;\n",
       "    }\n",
       "\n",
       "    .dataframe tbody tr th {\n",
       "        vertical-align: top;\n",
       "    }\n",
       "\n",
       "    .dataframe thead th {\n",
       "        text-align: right;\n",
       "    }\n",
       "</style>\n",
       "<table border=\"1\" class=\"dataframe\">\n",
       "  <thead>\n",
       "    <tr style=\"text-align: right;\">\n",
       "      <th></th>\n",
       "      <th>alcohol</th>\n",
       "      <th>malic_acid</th>\n",
       "      <th>ash</th>\n",
       "      <th>alcalinity_of_ash</th>\n",
       "      <th>magnesium</th>\n",
       "      <th>total_phenols</th>\n",
       "      <th>flavanoids</th>\n",
       "      <th>nonflavanoid_phenols</th>\n",
       "      <th>proanthocyanins</th>\n",
       "      <th>color_intensity</th>\n",
       "      <th>hue</th>\n",
       "      <th>od280/od315_of_diluted_wines</th>\n",
       "      <th>proline</th>\n",
       "    </tr>\n",
       "  </thead>\n",
       "  <tbody>\n",
       "    <tr>\n",
       "      <th>0</th>\n",
       "      <td>14.23</td>\n",
       "      <td>1.71</td>\n",
       "      <td>2.43</td>\n",
       "      <td>15.6</td>\n",
       "      <td>127.0</td>\n",
       "      <td>2.80</td>\n",
       "      <td>3.06</td>\n",
       "      <td>0.28</td>\n",
       "      <td>2.29</td>\n",
       "      <td>5.64</td>\n",
       "      <td>1.04</td>\n",
       "      <td>3.92</td>\n",
       "      <td>1065.0</td>\n",
       "    </tr>\n",
       "    <tr>\n",
       "      <th>1</th>\n",
       "      <td>13.20</td>\n",
       "      <td>1.78</td>\n",
       "      <td>2.14</td>\n",
       "      <td>11.2</td>\n",
       "      <td>100.0</td>\n",
       "      <td>2.65</td>\n",
       "      <td>2.76</td>\n",
       "      <td>0.26</td>\n",
       "      <td>1.28</td>\n",
       "      <td>4.38</td>\n",
       "      <td>1.05</td>\n",
       "      <td>3.40</td>\n",
       "      <td>1050.0</td>\n",
       "    </tr>\n",
       "    <tr>\n",
       "      <th>2</th>\n",
       "      <td>13.16</td>\n",
       "      <td>2.36</td>\n",
       "      <td>2.67</td>\n",
       "      <td>18.6</td>\n",
       "      <td>101.0</td>\n",
       "      <td>2.80</td>\n",
       "      <td>3.24</td>\n",
       "      <td>0.30</td>\n",
       "      <td>2.81</td>\n",
       "      <td>5.68</td>\n",
       "      <td>1.03</td>\n",
       "      <td>3.17</td>\n",
       "      <td>1185.0</td>\n",
       "    </tr>\n",
       "    <tr>\n",
       "      <th>3</th>\n",
       "      <td>14.37</td>\n",
       "      <td>1.95</td>\n",
       "      <td>2.50</td>\n",
       "      <td>16.8</td>\n",
       "      <td>113.0</td>\n",
       "      <td>3.85</td>\n",
       "      <td>3.49</td>\n",
       "      <td>0.24</td>\n",
       "      <td>2.18</td>\n",
       "      <td>7.80</td>\n",
       "      <td>0.86</td>\n",
       "      <td>3.45</td>\n",
       "      <td>1480.0</td>\n",
       "    </tr>\n",
       "    <tr>\n",
       "      <th>4</th>\n",
       "      <td>13.24</td>\n",
       "      <td>2.59</td>\n",
       "      <td>2.87</td>\n",
       "      <td>21.0</td>\n",
       "      <td>118.0</td>\n",
       "      <td>2.80</td>\n",
       "      <td>2.69</td>\n",
       "      <td>0.39</td>\n",
       "      <td>1.82</td>\n",
       "      <td>4.32</td>\n",
       "      <td>1.04</td>\n",
       "      <td>2.93</td>\n",
       "      <td>735.0</td>\n",
       "    </tr>\n",
       "    <tr>\n",
       "      <th>...</th>\n",
       "      <td>...</td>\n",
       "      <td>...</td>\n",
       "      <td>...</td>\n",
       "      <td>...</td>\n",
       "      <td>...</td>\n",
       "      <td>...</td>\n",
       "      <td>...</td>\n",
       "      <td>...</td>\n",
       "      <td>...</td>\n",
       "      <td>...</td>\n",
       "      <td>...</td>\n",
       "      <td>...</td>\n",
       "      <td>...</td>\n",
       "    </tr>\n",
       "    <tr>\n",
       "      <th>173</th>\n",
       "      <td>13.71</td>\n",
       "      <td>5.65</td>\n",
       "      <td>2.45</td>\n",
       "      <td>20.5</td>\n",
       "      <td>95.0</td>\n",
       "      <td>1.68</td>\n",
       "      <td>0.61</td>\n",
       "      <td>0.52</td>\n",
       "      <td>1.06</td>\n",
       "      <td>7.70</td>\n",
       "      <td>0.64</td>\n",
       "      <td>1.74</td>\n",
       "      <td>740.0</td>\n",
       "    </tr>\n",
       "    <tr>\n",
       "      <th>174</th>\n",
       "      <td>13.40</td>\n",
       "      <td>3.91</td>\n",
       "      <td>2.48</td>\n",
       "      <td>23.0</td>\n",
       "      <td>102.0</td>\n",
       "      <td>1.80</td>\n",
       "      <td>0.75</td>\n",
       "      <td>0.43</td>\n",
       "      <td>1.41</td>\n",
       "      <td>7.30</td>\n",
       "      <td>0.70</td>\n",
       "      <td>1.56</td>\n",
       "      <td>750.0</td>\n",
       "    </tr>\n",
       "    <tr>\n",
       "      <th>175</th>\n",
       "      <td>13.27</td>\n",
       "      <td>4.28</td>\n",
       "      <td>2.26</td>\n",
       "      <td>20.0</td>\n",
       "      <td>120.0</td>\n",
       "      <td>1.59</td>\n",
       "      <td>0.69</td>\n",
       "      <td>0.43</td>\n",
       "      <td>1.35</td>\n",
       "      <td>10.20</td>\n",
       "      <td>0.59</td>\n",
       "      <td>1.56</td>\n",
       "      <td>835.0</td>\n",
       "    </tr>\n",
       "    <tr>\n",
       "      <th>176</th>\n",
       "      <td>13.17</td>\n",
       "      <td>2.59</td>\n",
       "      <td>2.37</td>\n",
       "      <td>20.0</td>\n",
       "      <td>120.0</td>\n",
       "      <td>1.65</td>\n",
       "      <td>0.68</td>\n",
       "      <td>0.53</td>\n",
       "      <td>1.46</td>\n",
       "      <td>9.30</td>\n",
       "      <td>0.60</td>\n",
       "      <td>1.62</td>\n",
       "      <td>840.0</td>\n",
       "    </tr>\n",
       "    <tr>\n",
       "      <th>177</th>\n",
       "      <td>14.13</td>\n",
       "      <td>4.10</td>\n",
       "      <td>2.74</td>\n",
       "      <td>24.5</td>\n",
       "      <td>96.0</td>\n",
       "      <td>2.05</td>\n",
       "      <td>0.76</td>\n",
       "      <td>0.56</td>\n",
       "      <td>1.35</td>\n",
       "      <td>9.20</td>\n",
       "      <td>0.61</td>\n",
       "      <td>1.60</td>\n",
       "      <td>560.0</td>\n",
       "    </tr>\n",
       "  </tbody>\n",
       "</table>\n",
       "<p>178 rows × 13 columns</p>\n",
       "</div>"
      ],
      "text/plain": [
       "     alcohol  malic_acid   ash  alcalinity_of_ash  magnesium  total_phenols  \\\n",
       "0      14.23        1.71  2.43               15.6      127.0           2.80   \n",
       "1      13.20        1.78  2.14               11.2      100.0           2.65   \n",
       "2      13.16        2.36  2.67               18.6      101.0           2.80   \n",
       "3      14.37        1.95  2.50               16.8      113.0           3.85   \n",
       "4      13.24        2.59  2.87               21.0      118.0           2.80   \n",
       "..       ...         ...   ...                ...        ...            ...   \n",
       "173    13.71        5.65  2.45               20.5       95.0           1.68   \n",
       "174    13.40        3.91  2.48               23.0      102.0           1.80   \n",
       "175    13.27        4.28  2.26               20.0      120.0           1.59   \n",
       "176    13.17        2.59  2.37               20.0      120.0           1.65   \n",
       "177    14.13        4.10  2.74               24.5       96.0           2.05   \n",
       "\n",
       "     flavanoids  nonflavanoid_phenols  proanthocyanins  color_intensity   hue  \\\n",
       "0          3.06                  0.28             2.29             5.64  1.04   \n",
       "1          2.76                  0.26             1.28             4.38  1.05   \n",
       "2          3.24                  0.30             2.81             5.68  1.03   \n",
       "3          3.49                  0.24             2.18             7.80  0.86   \n",
       "4          2.69                  0.39             1.82             4.32  1.04   \n",
       "..          ...                   ...              ...              ...   ...   \n",
       "173        0.61                  0.52             1.06             7.70  0.64   \n",
       "174        0.75                  0.43             1.41             7.30  0.70   \n",
       "175        0.69                  0.43             1.35            10.20  0.59   \n",
       "176        0.68                  0.53             1.46             9.30  0.60   \n",
       "177        0.76                  0.56             1.35             9.20  0.61   \n",
       "\n",
       "     od280/od315_of_diluted_wines  proline  \n",
       "0                            3.92   1065.0  \n",
       "1                            3.40   1050.0  \n",
       "2                            3.17   1185.0  \n",
       "3                            3.45   1480.0  \n",
       "4                            2.93    735.0  \n",
       "..                            ...      ...  \n",
       "173                          1.74    740.0  \n",
       "174                          1.56    750.0  \n",
       "175                          1.56    835.0  \n",
       "176                          1.62    840.0  \n",
       "177                          1.60    560.0  \n",
       "\n",
       "[178 rows x 13 columns]"
      ]
     },
     "metadata": {},
     "output_type": "display_data"
    },
    {
     "data": {
      "text/plain": [
       "0      0\n",
       "1      0\n",
       "2      0\n",
       "3      0\n",
       "4      0\n",
       "      ..\n",
       "173    2\n",
       "174    2\n",
       "175    2\n",
       "176    2\n",
       "177    2\n",
       "Name: target, Length: 178, dtype: int32"
      ]
     },
     "metadata": {},
     "output_type": "display_data"
    },
    {
     "data": {
      "text/plain": [
       "array([0, 1, 2])"
      ]
     },
     "execution_count": 3,
     "metadata": {},
     "output_type": "execute_result"
    }
   ],
   "source": [
    "# stampo matrice delle features\n",
    "display(features)\n",
    "# stampo vettore target\n",
    "display(target)\n",
    "\n",
    "# mostro quante sono le possibili labels\n",
    "pd.unique(target)"
   ]
  },
  {
   "cell_type": "code",
   "execution_count": 3,
   "metadata": {},
   "outputs": [],
   "source": [
    "# divido in training set e test set, utilizzando il 30% dei dati per il test\n",
    "X_train, X_test, y_train, y_test = train_test_split(features, target, test_size = 0.30)"
   ]
  },
  {
   "cell_type": "code",
   "execution_count": null,
   "metadata": {},
   "outputs": [],
   "source": [
    "\"\"\"\n",
    "decision tree ha almeno un iperparametro importante, che dovrebbe essere validato\n",
    "\n",
    "la profondità(?)\n",
    "---\n",
    "yep\n",
    "---\n",
    "\n",
    "gli iperparametri di un modello cambiano completamente le sue performance,\n",
    "e non è detto che un primo addestramento con dei valori di default ne diano un'idea ragionevole\n",
    "\n",
    "prima di cambiare modello, prova a validare gli iperparametri di DT\n",
    "\n",
    "quali sono? che effetto hanno sul fitting dei dati?\n",
    "\n",
    "La profondità (max_depth) indica quanto sarà esteso l'albero,\n",
    "cioè il numero di nodi per ogni decisione.\n",
    "---\n",
    "il numero massimo di nodi di una decisione, cioè la lunghezza massima\n",
    "del percorso tra la radice e una foglia; che effetto ha sull'addestramento?\n",
    "a cosa corrisponde una profondità alta? e una bassa?\n",
    "---\n",
    "\n",
    "min_sample_leaf indica il numero minimo di esempi necessari perchè ci si trovi in una foglia\n",
    "---\n",
    "il numero minimo di esempi che può avere una foglia; questo evita di splittare ulteriormente\n",
    "nodi con troppi pochi esempi; che effetto ha? a cosa corrispondono valori alti o bassi?\n",
    "\n",
    "la documentazione dice anche:\n",
    "\n",
    "If float, then min_samples_leaf is a fraction and ceil(min_samples_leaf * n_samples) are\n",
    "the minimum number of samples for each node; in altre parole, puoi scegliere questo\n",
    "valore in modo relativo alla dimensione del tuo dataset\n",
    "---\n",
    "\n",
    "max_features indica il numero di feature da considerare quando si sceglie la migliore per eseguire uno split.\n",
    "---\n",
    "ok; questo iperparametro di solito si valida in un ensemble di alberi come random forest;\n",
    "per DT puoi lasciare il valore di default\n",
    "---\n",
    "\n",
    "max_leaf_node indica il numero massimo di foglie: di volta in volta viene eseguito lo split con il maggior decremento di entropia, fino ad arrivare al numero massimo di foglie desiderato.\n",
    "---\n",
    "questo iperparametro è un po' difficile da interpretare/validare; personalmente lo lascio com'è;\n",
    "---\n",
    "\n",
    "---\n",
    "riassumendo: puoi validare la profondità; volendo, min_samples_leaf e min_samples_split\n",
    "---\n",
    "\n",
    "\"\"\""
   ]
  },
  {
   "cell_type": "code",
   "execution_count": 4,
   "metadata": {},
   "outputs": [
    {
     "name": "stdout",
     "output_type": "stream",
     "text": [
      "i migliori valori dei parametri sono: {'max_depth': 8, 'max_leaf_nodes': 15}\n",
      "0.9196666666666667\n",
      "0.9259259259259259\n"
     ]
    }
   ],
   "source": [
    "# Creo il modello\n",
    "tree = DecisionTreeClassifier()\n",
    "\n",
    "# creo distribuzione dell'iperparametro\n",
    "depth_distribution = {'max_depth': poisson(mu = 10), 'max_leaf_nodes': randint(low = 5, high = 35)}\n",
    "\"\"\"\n",
    "ok usare random search, e bene provare a passare una distribuzione\n",
    "\n",
    "perché poisson con media 10? idealmente ogni valore di profondità è buono, quindi meglio\n",
    "campionare da una distribuzione uniforme\n",
    "\n",
    "ok per max_leaf_nodes, anche se come ti dicevo preferisco validare\n",
    "min_samples_leaf e min_samples_split\n",
    "\n",
    "che distrubuzione useresti per questi ultimi due iperparametri?\n",
    "\"\"\"\n",
    "\n",
    "# valido l'iperparametro\n",
    "clf = RandomizedSearchCV(estimator = tree, n_iter = 10, param_distributions = depth_distribution, n_jobs = -1, scoring = 'accuracy', cv = 5)\n",
    "\"\"\"\n",
    "n_iter = 10 sono un po' poche (specialmente per modelli più complessi di DT, con\n",
    "diversi iperparametri da validare)\n",
    "\n",
    "cosa succede se rilanci questo esperimento? ti aspetti sempre lo stesso risultato?\n",
    "a cosa è dovuto? come puoi \"fissare\" questa eventuale randomicità?\n",
    "\"\"\"\n",
    "\n",
    "# addestro il modello\n",
    "clf.fit(X_train, y_train)\n",
    "\n",
    "# i migliori valori dei parametri\n",
    "print(f'i migliori valori dei parametri sono: {clf.best_params_}')\n",
    "\n",
    "# valuto la accuratezza media della migliore combinazione di parametri\n",
    "tree_score = clf.best_score_\n",
    "print(f\"l'accuratezza media del miglior modello è {tree_score}\")\n",
    "                                                  \n",
    "# valuto l'accuratezza sul test set\n",
    "tree_test_score = accuracy_score(y_test, clf.predict(X_test))\n",
    "print(f\"l'accuratezza sul test set è {tree_test_score}\")"
   ]
  },
  {
   "cell_type": "code",
   "execution_count": 6,
   "metadata": {},
   "outputs": [
    {
     "data": {
      "text/plain": [
       "1    71\n",
       "0    59\n",
       "2    48\n",
       "Name: target, dtype: int64"
      ]
     },
     "execution_count": 6,
     "metadata": {},
     "output_type": "execute_result"
    }
   ],
   "source": [
    "# controllo che la precisione non sia dovuta a una classe prevalente\n",
    "\"\"\"\n",
    "accuratezza, non precisione; che differenza c'è?\n",
    "\n",
    "accuratezza = rapporto tra i casi correttamente classificati e i casi totali\n",
    "precisione = frazione dei soggetti realmente positivi tra quelli etichettati come tali\n",
    "---\n",
    "ok\n",
    "---\n",
    "\n",
    "come gestiresti un eventuale sbilanciamento tra le classi (metrica? modello?)\n",
    "\n",
    "come metriche utilizzerei sia la precision che la recall,\n",
    "o per avere un indicatore più sintetico l'F1 score.\n",
    "---\n",
    "ok; visto che il problema è multiclasse, come definiresti recall e precision?\n",
    "prova a indagare sul concetto di micro-macro-weighted average e dai un'occhiata\n",
    "alla confusion matrix\n",
    "---\n",
    "un eventuale sbilanciamento tra le classi può causare overfitting,\n",
    "per questo utilizzerei un metodo ensemble di averaging/voting che punti a\n",
    "diminuire la varianza del modello.\n",
    "---\n",
    "un eventuale sbilanciamento tra le classi, più che overfitting (= imparare\n",
    "troppo dal training set, che è solo un campione del fenomeno che stai studiando),\n",
    "fa sì che il tuo modello dia più importanza a una classe rispetto all'altra\n",
    "(o alle altre)\n",
    "\n",
    "che argomenti puoi usare per bilanciare le classi in fase di addestramento? vedi qui\n",
    "(anche se vale per tutti i modelli):\n",
    "https://scikit-learn.org/stable/modules/generated/sklearn.tree.DecisionTreeClassifier.html\n",
    "\n",
    "ultimo aspetto, la divisione in fold; la tua random search usa cv=5, dividendo i dati\n",
    "in 5 fold; come viene costruito questo split? che alternative hai?\n",
    "prova a indagare a partire dalla documentazione di random search\n",
    "---\n",
    "\"\"\"\n",
    "\n",
    "target.value_counts()"
   ]
  },
  {
   "cell_type": "code",
   "execution_count": null,
   "metadata": {},
   "outputs": [],
   "source": [
    "\"\"\"\n",
    "altra cosa: è necessario scalare i dati prima dell'apprendimento con DT? perché?\n",
    "\n",
    "Non è necessario scalare i dati perchè non c'è un trade off\n",
    "tra due grandezze: ogni nodo esegue lo split sulla base di una sola feature.\n",
    "Riscalando i dati si scalerebbe anche la soglia di separazione dei\n",
    "dati all'interno del nodo, ma non cambierebbe il risultato.\n",
    "---\n",
    "ok: quando splitti ogni feature viene valutata da sola, una alla volta,\n",
    "mai in combinazione con le altre\n",
    "---\n",
    "\"\"\""
   ]
  },
  {
   "cell_type": "markdown",
   "metadata": {},
   "source": [
    "Il modello Decision Tree fornisce già degli ottimi risultati sul test set (precisione del 92%). Tuttavia, passando ad un modello Random Forest, si potrebbe ulteriormente ridurre la varianza eccessiva del modello e quindi un leggero overfitting."
   ]
  },
  {
   "cell_type": "code",
   "execution_count": null,
   "metadata": {},
   "outputs": [],
   "source": [
    "\"\"\"\n",
    "sapresti spiegare\n",
    "\n",
    "- cosa sono la varianza e il bias di un modello?\n",
    "\n",
    "varianza = variabilità delle predizioni di un modello\n",
    "bias = differenza tra la predizione media e valore target (una label nella classificazione, una misura nel caso della regressione)\n",
    "\n",
    "- come random forest lavora su questi concetti combinando modelli diversi?\n",
    "\n",
    "I modelli decision trees sono modelli molto complessi,\n",
    "---\n",
    "questo vale sempre? o dipende dai valori degli iperparametri?\n",
    "---\n",
    "quindi le predizioni presentano un'alta varianza.\n",
    "Facendo la media delle predizioni di un certo numero\n",
    "(determinato da un iperparametro) di decision trees, random forest\n",
    "riesce a ridurre questa variabilità.\n",
    "---\n",
    "ok; quindi l'obiettivo è combinare predittori ad alta varianza, con lo scopo di\n",
    "ottenere un ensemble\n",
    "- che avrà un po' di bias in più rispetto a quello dei singoli alberi\n",
    "- ma molta meno varianza, e questo dà luogo a un modello (l'ensemble) migliore\n",
    "---\n",
    "I singoli alberi sono 'modelli diversi' in quanto vengono addestrati\n",
    "ognuno su un bootstrap sample del training set (la cui creazione è\n",
    "regolata anch'essa da un iperparametro).\n",
    "---\n",
    "cos'altro c'è di random nella costruzione dei singoli alberi di una foresta?\n",
    "---\n",
    "\"\"\""
   ]
  },
  {
   "cell_type": "code",
   "execution_count": 9,
   "metadata": {},
   "outputs": [
    {
     "name": "stdout",
     "output_type": "stream",
     "text": [
      " I migliori valori degli iperparametri sono: {'max_features': 6, 'n_estimators': 109} \n",
      " La loro accuratezza media sul training set è 0.9836666666666666\n"
     ]
    }
   ],
   "source": [
    "# creo il modello\n",
    "random_forest = RandomForestClassifier()\n",
    "\n",
    "# creo un dizionario coi possibili valori dei parametri\n",
    "params = {'n_estimators': poisson(mu = 100), 'max_features': randint(low = 3, high = 13)}\n",
    "\n",
    "\"\"\"\n",
    "indaga meglio su quali sono gli iperparametri di random forest che vale la pena di validare;\n",
    "nel prossimo invio, spiegami il loro significato e qual è il loro effetto sul modello\n",
    "\n",
    "puoi iniziare dalla user guide di sklearn\n",
    "\n",
    "I principali iperparametri di random forest sono n_estimators e max_features.\n",
    "Il primo indica il numero di alberi nella 'foresta',\n",
    "il secondo il numero di features che vengono prese in considerazione\n",
    "per scegliere quella che splittata, massimizza il decremento di impurità ad ogni nodo.\n",
    "\n",
    "Più aumenta n_estimators meglio il modello è in grado di predire,\n",
    "ma ciò comporta un maggior tempo di calcolo.\n",
    "Dopo un certo numero di alberi il miglioramento non è più significativo.\n",
    "---\n",
    "ok; però appunto validerei dei valori grandi a piacere e non centrati intorno a un valore\n",
    "specifico (mu=100); es: [100, 200, 500, 750, 1000]\n",
    "---\n",
    "\n",
    "Più aumenta max_features più si riduce la varianza del modello,\n",
    "ma questo comporta un aumento del bias. \n",
    "---\n",
    "ok; quindi questo iperparametro rappresenta\n",
    "- un fattore di smoothing dei singoli alberi, che idealmente dovrebbero avere alta varianza/\n",
    "basso bias, cioè essere molto specializzati\n",
    "- quindi, in altre parole, \"il grado di bias che sei disposto ad inserire nei singoli alberi\"\n",
    "\n",
    "idealmente puoi validare valori da 1 a d, dove d è il numero di feature (anche se ti puoi\n",
    "fermare prima, volendo a sqrt(d) o a d/2)\n",
    "---\n",
    "\n",
    "---\n",
    "male non fa, sempre in ottica di smoothing, provare a validare anche min_samples_leaf/split\n",
    "---\n",
    "\"\"\"\n",
    "\n",
    "# valido i parametri \n",
    "clf = RandomizedSearchCV(estimator = random_forest, param_distributions = params, n_jobs =-1, scoring = 'accuracy', cv = 5, n_iter = 10)\n",
    "clf.fit(X_train, y_train)\n",
    "\n",
    "# controllo i migliori valori dei iperparametri e la loro accuratezza\n",
    "print(f\"\"\" I migliori valori degli iperparametri sono: {clf.best_params_} \n",
    " La loro accuratezza media sul training set è {clf.best_score_}\"\"\")\n"
   ]
  },
  {
   "cell_type": "code",
   "execution_count": null,
   "metadata": {},
   "outputs": [],
   "source": [
    "\"\"\"\n",
    "\n",
    "# uso la cross-validation per calcolare la precisione del nuovo modello\n",
    "scores = cross_val_score(clf, features, target, cv = 10)\n",
    "print(f'la media della precisione è {scores.mean()}, con una deviazione standard di {scores.std()}')\n",
    "\n",
    "\"\"\""
   ]
  },
  {
   "cell_type": "code",
   "execution_count": null,
   "metadata": {},
   "outputs": [],
   "source": [
    "\"\"\"\n",
    "questo test non è esattamente legale; stai infatti mischiando i dati\n",
    "di training e test che hai separato prima, e li stai usando tutti insieme\n",
    "\n",
    "proviamo a ragionare su questo aspetto, che è delicato\n",
    "\n",
    "per scegliere i migliori valori degli iperparametri, e quindi il tuo\n",
    "best model, hai fatto dei test incrociati (quanti? 10), con altrettanti addestramenti;\n",
    "hai quindi usato TUTTI i dati del train per calibrare qualcosa, appunto\n",
    "il valore degli iperparametri\n",
    "\n",
    "facendo una cross validation su tutti i dati, come in questa cella, stai\n",
    "rimescolando tutto, andando a testare il tuo modello sui\n",
    "dati che hai usato, nella fase precedente, per scegliere gli\n",
    "iperparametri; il che è illegale; è come se stessi dando, indirettamente,\n",
    "una sbirciatina al futuro; ti torna?\n",
    "\n",
    "si si è chiaro, ho compreso l'errore :)\n",
    "---\n",
    "bene!\n",
    "---\n",
    "\n",
    "in altre parole: in questa cella stai effettivamente addestrando e testando su dati\n",
    "diversi, e questo è ok; ma stai usando un modello (= i suoi\n",
    "iperparametri) che hai scelto usando parte dei dati su cui adesso stai valutando\n",
    "il risultato\n",
    "\"\"\""
   ]
  },
  {
   "cell_type": "code",
   "execution_count": 25,
   "metadata": {},
   "outputs": [
    {
     "name": "stdout",
     "output_type": "stream",
     "text": [
      "0.9814814814814815\n"
     ]
    }
   ],
   "source": [
    "# calcolo l'accuratezza del modello\n",
    "accuracy = clf.score(X_test, y_test)\n",
    "print(accuracy)"
   ]
  },
  {
   "cell_type": "markdown",
   "metadata": {},
   "source": [
    "Come si può notare l'accuratezza del modello è aumentata ulteriormente. Si potrebbe anche valutare di eliminare alcune features e verificare il cambiamento nella precisione del modello."
   ]
  },
  {
   "cell_type": "code",
   "execution_count": 10,
   "metadata": {},
   "outputs": [
    {
     "name": "stdout",
     "output_type": "stream",
     "text": [
      "[ 96.23007113  32.4564033    8.8835039   17.69316773   9.03341188\n",
      "  76.76582416 155.29998883  18.97778387  17.85473739  88.41759919\n",
      "  77.94735094 123.55232287 166.21407675]\n",
      "7\n"
     ]
    },
    {
     "data": {
      "image/png": "[encoded data removed]",
      "text/plain": [
       "<Figure size 432x288 with 1 Axes>"
      ]
     },
     "metadata": {},
     "output_type": "display_data"
    }
   ],
   "source": [
    "# guardo i punteggi delle features usando SelectKbest\n",
    "selector = SelectKBest(k = 'all')\n",
    "\"\"\"\n",
    "sapresti spiegare come funziona la procedura che hai scelto? che criterio viene\n",
    "usato per dare il punteggio alle feature?\n",
    "\n",
    "La procedura in questione seleziona le k migliori features tra quelle presenti nel training set.\n",
    "Il criterio utilizzato è una statistica test (in questo caso quella di default\n",
    "che è il test di ANOVA, in quanto adatto a task di classificazione)\n",
    "---\n",
    "ok: https://blog.minitab.com/en/adventures-in-statistics-2/understanding-analysis-of-variance-anova-and-the-f-test\n",
    "---\n",
    "\n",
    "idealmente, quando fai feature selection (e in generale per qualsiasi\n",
    "operazione di fine-tuning), dovresti usare solo i dati di training; immagina\n",
    "sempre che il test set non sia disponibile fino alla fine dell'addestramento\n",
    "\"\"\"\n",
    "\n",
    "# applico il selezionatore solo al training set, e stampo i punteggi delle feature\n",
    "selector.fit(X_train, y_train)\n",
    "print(selector.scores_)\n",
    "\n",
    "# seleziono solo le features con uno score superiore a 50\n",
    "print(len([score for score in selector.scores_ if score > 50 ]))\n",
    "\n",
    "plt.style.use('seaborn-dark')\n",
    "plt.barh(y = X_train.columns, width = selector.scores_)\n",
    "plt.show()\n"
   ]
  },
  {
   "cell_type": "code",
   "execution_count": null,
   "metadata": {},
   "outputs": [],
   "source": [
    "\"\"\"\n",
    "nel grafico potresti ordinarle per importanza (prova anche con seaborn)\n",
    "\"\"\""
   ]
  },
  {
   "cell_type": "code",
   "execution_count": 11,
   "metadata": {},
   "outputs": [
    {
     "name": "stdout",
     "output_type": "stream",
     "text": [
      "(124, 7)\n"
     ]
    }
   ],
   "source": [
    "# creo un selezionatore delle migliori 7 features\n",
    "selector = SelectKBest(k = 7)\n",
    "\n",
    "\"\"\"\n",
    "perché le migliori sette?\n",
    "\n",
    "Dai punteggi ho notato una grande differenza tra i punteggi di alcune features\n",
    "e quelli di altre. Quindi ho usato 50 come punteggio soglia per separare\n",
    "questi due gruppi. Stampando il numero delle features che soddisfavano questo requisito,\n",
    "ho stabilito che il gruppo delle migliori features era composto da 7\n",
    "di queste (ultimo passaggio della slide precedente).\n",
    "\n",
    "ok, la soglia empirica mi torna di più del numero \"7\"\n",
    "\n",
    "invece di riaddestrare SelectKBest con k=7 puoi usare i punteggi ottenuti e\n",
    "la soglia che hai scelto come \"maschera\" per costruire X_train_new e X_test_new\n",
    "a partire da X_train e X_test\n",
    "\"\"\"\n",
    "\n",
    "# trasformo la matrice delle features originale\n",
    "X_train_new = selector.fit_transform(X_train, y_train)\n",
    "print(X_train_new.shape)"
   ]
  },
  {
   "cell_type": "code",
   "execution_count": 14,
   "metadata": {},
   "outputs": [
    {
     "name": "stdout",
     "output_type": "stream",
     "text": [
      "I migliori valori dei parametri sono {'max_features': 3, 'n_estimators': 95} \n",
      "La loro accuratezza media è 0.9836666666666666\n"
     ]
    }
   ],
   "source": [
    "# creo un nuovo modello da addestrare sulla nuova matrice delle features\n",
    "random_forest = RandomForestClassifier()\n",
    "\n",
    "# creo un dizionario coi possibili valori dei parametri\n",
    "params = {'n_estimators': poisson(mu = 100), 'max_features': randint(low = 3, high = 7)}\n",
    "\"\"\"\n",
    "vedi su per i commenti sugli iperparametri\n",
    "\"\"\"\n",
    "\n",
    "# valido i parametri \n",
    "clf = RandomizedSearchCV(estimator = random_forest, param_distributions = params, n_jobs =-1, scoring = 'accuracy', cv = 5, n_iter = 10)\n",
    "\n",
    "# addestro il modello sulla nuova matrice delle features\n",
    "clf.fit(X_train_new, y_train)\n",
    "\n",
    "# controllo i migliori valori dei parametri\n",
    "print(f'''I migliori valori dei parametri sono {clf.best_params_} \n",
    "La loro accuratezza media è {clf.best_score_}''')\n"
   ]
  },
  {
   "cell_type": "code",
   "execution_count": 16,
   "metadata": {},
   "outputs": [
    {
     "data": {
      "text/plain": [
       "0.9814814814814815"
      ]
     },
     "execution_count": 16,
     "metadata": {},
     "output_type": "execute_result"
    }
   ],
   "source": [
    "# applico la selezione anche al test set\n",
    "X_test_new = selector.fit_transform(X_test, y_test)\n",
    "\n",
    "# ricalcolo l'accuratezza del modello\n",
    "clf.score(X_test_new, y_test)"
   ]
  },
  {
   "cell_type": "markdown",
   "metadata": {},
   "source": [
    "Ricalcolando l'accuratezza risulta evidente che quasi tutta l'informazione necessaria al modello per la prediction è prodotta dalle migliori 7 features: nonostante siano state eliminate 5 features, la perdita della precisione è solamente dell' 1%!"
   ]
  },
  {
   "cell_type": "code",
   "execution_count": null,
   "metadata": {},
   "outputs": [],
   "source": [
    "\"\"\"\n",
    "ok; la perdita di accuratezza :D\n",
    "\"\"\""
   ]
  },
  {
   "cell_type": "code",
   "execution_count": 54,
   "metadata": {},
   "outputs": [
    {
     "name": "stdout",
     "output_type": "stream",
     "text": [
      "Le migliori 7 features sono: \n",
      "['alcohol', 'total_phenols', 'flavanoids', 'color_intensity', 'hue', 'od280/od315_of_diluted_wines', 'proline']\n"
     ]
    }
   ],
   "source": [
    "wine = datasets.load_wine()\n",
    "original_features = np.array(wine.feature_names)\n",
    "features_filter = selector.get_support()\n",
    "\n",
    "\"\"\"\n",
    "occhio a non usare nomi di variabili che sono già keyword del linguaggio\n",
    "\"\"\"\n",
    "\n",
    "print('Le migliori 7 features sono: ')\n",
    "print([feature for feature in original_features[features_filter]])"
   ]
  }
 ],
 "metadata": {
  "kernelspec": {
   "display_name": "Python 3",
   "language": "python",
   "name": "python3"
  },
  "language_info": {
   "codemirror_mode": {
    "name": "ipython",
    "version": 3
   },
   "file_extension": ".py",
   "mimetype": "text/x-python",
   "name": "python",
   "nbconvert_exporter": "python",
   "pygments_lexer": "ipython3",
   "version": "3.9.5"
  }
 },
 "nbformat": 4,
 "nbformat_minor": 4
}
